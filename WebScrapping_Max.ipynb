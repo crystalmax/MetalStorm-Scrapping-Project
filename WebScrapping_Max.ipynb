{
 "cells": [
  {
   "cell_type": "markdown",
   "metadata": {},
   "source": [
    "# Webscrapping Project - Metal Bands"
   ]
  },
  {
   "cell_type": "markdown",
   "metadata": {},
   "source": [
    "Use both Senlenium and BeautifulSoup to parse http://www.metalstorm.net/home/. "
   ]
  },
  {
   "cell_type": "code",
   "execution_count": null,
   "metadata": {},
   "outputs": [],
   "source": [
    "from bs4 import BeautifulSoup\n",
    "import requests\n",
    "from selenium import webdriver\n",
    "from selenium.webdriver.support.ui import Select\n",
    "from selenium.webdriver.common.action_chains import ActionChains\n",
    "from collections import Counter\n",
    "from time import sleep\n",
    "import pandas as pd\n",
    "import requests\n",
    "import matplotlib.pyplot as plt\n",
    "import plotly.graph_objs as go\n",
    "import plotly.offline as py\n",
    "\n",
    "py.init_notebook_mode(connected=True)\n",
    "%matplotlib inline"
   ]
  },
  {
   "cell_type": "code",
   "execution_count": null,
   "metadata": {},
   "outputs": [],
   "source": [
    "driver = webdriver.Chrome('/Users/max/Downloads/chromedriver')"
   ]
  },
  {
   "cell_type": "code",
   "execution_count": null,
   "metadata": {},
   "outputs": [],
   "source": [
    "action = ActionChains(driver)"
   ]
  },
  {
   "cell_type": "code",
   "execution_count": null,
   "metadata": {},
   "outputs": [],
   "source": [
    "url = 'http://www.metalstorm.net/home/'"
   ]
  },
  {
   "cell_type": "code",
   "execution_count": null,
   "metadata": {},
   "outputs": [],
   "source": [
    "driver.get(url)"
   ]
  },
  {
   "cell_type": "code",
   "execution_count": null,
   "metadata": {},
   "outputs": [],
   "source": [
    "band_dropdown = driver.find_element_by_xpath('//*[@id=\"main_menu\"]/ul/li[3]/a[1]')\n",
    "action.move_to_element(band_dropdown).perform()\n",
    "driver.find_element_by_xpath('//*[@id=\"main_menu\"]/ul/li[3]/ul/li[1]/a').click()"
   ]
  },
  {
   "cell_type": "code",
   "execution_count": null,
   "metadata": {},
   "outputs": [],
   "source": [
    "genre_dropdown = {3:'Black Metal',4:'Death Metal',6:'Doom Metal',15:'Heavy Metal',\n",
    "                  22:'Progress Metal',29:'Thrash Metal'}"
   ]
  },
  {
   "cell_type": "markdown",
   "metadata": {},
   "source": [
    "## Scrapping the Page"
   ]
  },
  {
   "cell_type": "markdown",
   "metadata": {},
   "source": [
    "From the band page, extract the band info from the page: genre, country, formed year, split year, albums,avg_score ,last_album year "
   ]
  },
  {
   "cell_type": "code",
   "execution_count": null,
   "metadata": {},
   "outputs": [],
   "source": [
    "def extract_band_info(band_info,genre):\n",
    "    \n",
    "    table = driver.find_element_by_css_selector('div#page-content tbody:nth-of-type(1)')    \n",
    "    rows = table.find_elements_by_tag_name(\"tr\")\n",
    "    \n",
    "    for i in range(0,len(rows)):\n",
    "        \n",
    "        table = driver.find_element_by_css_selector('div#page-content tbody:nth-of-type(1)')   \n",
    "        rows = table.find_elements_by_tag_name(\"tr\")\n",
    "        \n",
    "        band_name = rows[i].find_element_by_css_selector('td:nth-child(3) b a').text\n",
    "        \n",
    "        band_info[band_name] = [genre]       \n",
    "        band_info[band_name] += [rows[i].find_element_by_css_selector('td:nth-child(5)').text]   \n",
    "        band_info[band_name] += [rows[i].find_element_by_css_selector('td:nth-child(6)').text]   \n",
    "        band_info[band_name] += [rows[i].find_element_by_css_selector('td:nth-child(7)').text]\n",
    "        \n",
    "        rows[i].find_element_by_css_selector('td:nth-child(3) a').click()\n",
    "\n",
    "        sleep(4)\n",
    "        \n",
    "        result = requests.get(driver.current_url) \n",
    "        soup = BeautifulSoup(result.content)\n",
    "        table = soup.find('div', id = 'discotab1')\n",
    "        rows = table.find_all('tr')\n",
    "\n",
    "        albums = []\n",
    "        for row in rows:\n",
    "            albums.append(row.text.strip())\n",
    "            \n",
    "        score_cnt = len(albums)\n",
    "        \n",
    "        score = 0\n",
    "        \n",
    "        band_info[band_name] += [len(albums)]\n",
    "        for i in range(len(albums)):\n",
    "            if len(albums[i].split('\\n')) ==4:\n",
    "                score += float(albums[i].split('\\n')[-1])\n",
    "            else:\n",
    "                score += 0\n",
    "                score_cnt -= 1\n",
    "                \n",
    "        band_info[band_name] += [round(score/score_cnt,2)]     \n",
    "        band_info[band_name] += [albums[-1].split('\\n')[0]]\n",
    "        \n",
    "        driver.back()\n",
    "        \n",
    "        sleep(4)\n",
    "        \n",
    "    pass "
   ]
  },
  {
   "cell_type": "markdown",
   "metadata": {},
   "source": [
    "Click on every band to gather all the band info for each genre"
   ]
  },
  {
   "cell_type": "code",
   "execution_count": null,
   "metadata": {},
   "outputs": [],
   "source": [
    "band_info = {}\n",
    "\n",
    "for i in genre_dropdown.keys():\n",
    "    \n",
    "    driver.find_element_by_xpath('//*[@id=\"filter-styles\"]/a[1]').click()\n",
    "    sleep(1)\n",
    "    driver.find_element_by_xpath(f'//*[@id=\"filter-styles\"]/ul/li[{i}]/label/input').click()\n",
    "    sleep(1)\n",
    "    driver.find_element_by_xpath('//*[@id=\"page-content\"]/form/div/div/div[3]/button').click()\n",
    "    sleep(5)\n",
    "    \n",
    "    last_page = int(driver.find_element_by_xpath('//*[@id=\"page-content\"]/div[3]/div[2]/ul/li[7]/a').text)  \n",
    "    pages = [2,3,4,5,6,7]+[8]*(last_page-1-6)    \n",
    "    genre = genre_dropdown[i]\n",
    "    \n",
    "    for j in pages:\n",
    "            \n",
    "        extract_band_info(band_info,genre)\n",
    "            \n",
    "        data = pd.DataFrame.from_dict(band_info,orient='index',\\\n",
    "                            columns=['Genre', 'Country', 'Formed', 'Split','Albums','Avg_Score','Last_album'])\n",
    "        data.to_csv('band_info.csv',mode='a')\n",
    "        band_info = {}\n",
    "            \n",
    "        driver.find_element_by_xpath(f'//*[@id=\"page-content\"]/div[3]/div[2]/ul/li[{j}]/a').click()\n",
    "               \n",
    "        sleep(5)\n",
    "    \n",
    "    driver.find_element_by_xpath('//*[@id=\"filter-styles\"]/a[2]').click()    \n",
    "    driver.find_element_by_xpath('//*[@id=\"page-content\"]/form/div/div/div[3]/button').click()\n",
    "    \n",
    "    sleep(8)"
   ]
  },
  {
   "cell_type": "markdown",
   "metadata": {},
   "source": [
    "Save the data to csv file"
   ]
  },
  {
   "cell_type": "code",
   "execution_count": null,
   "metadata": {},
   "outputs": [],
   "source": [
    "data = pd.DataFrame.from_dict(band_info,orient='index',\\\n",
    "                            columns=['Genre', 'Country', 'Formed', 'Split','Albums','Avg_Score','Last_album'])\n",
    "data.to_csv('band_info.csv',mode='a')"
   ]
  },
  {
   "cell_type": "code",
   "execution_count": null,
   "metadata": {},
   "outputs": [],
   "source": [
    "band.drop(band[band['Last_album']==' '].index,inplace=True)"
   ]
  },
  {
   "cell_type": "markdown",
   "metadata": {},
   "source": [
    "## Data Exploration and Visualization"
   ]
  },
  {
   "cell_type": "markdown",
   "metadata": {},
   "source": [
    "Country coordinates for map plot"
   ]
  },
  {
   "cell_type": "code",
   "execution_count": null,
   "metadata": {},
   "outputs": [],
   "source": [
    "coordinates = {'Norway':[60.4720,8.4689],'USA':[37.0902,-95.7129],\n",
    "                'Germany':[51.1657,10.4515],'Sweden':[60.1282,18.6435],\n",
    "                'France': [46.2276,2.2137],'Finland':[61.9241,25.7482],\n",
    "                'United Kingdom':[55.3781,-3.4360],'Canada':[56.1304,-106.3468],\n",
    "                'Italy':[41.8719,12.5674],'The Netherlands':[52.1326,5.2913]}"
   ]
  },
  {
   "cell_type": "code",
   "execution_count": null,
   "metadata": {},
   "outputs": [],
   "source": [
    "country_coor = pd.DataFrame.from_dict(coordinates,orient='index',\\\n",
    "                            columns=['Lat', 'Long'])"
   ]
  },
  {
   "cell_type": "code",
   "execution_count": null,
   "metadata": {},
   "outputs": [],
   "source": [
    "black_coor = pd.DataFrame(band[band['Genre']=='Black Metal']['Country'].value_counts().head(5)).\\\n",
    "                merge(country_coor,how='left',left_index=True,right_index=True).rename(columns={'Country':'Bands'})\n",
    "death_coor = pd.DataFrame(band[band['Genre']=='Death Metal']['Country'].value_counts().head(5)).\\\n",
    "                merge(country_coor,how='left',left_index=True,right_index=True).rename(columns={'Country':'Bands'})\n",
    "doom_coor = pd.DataFrame(band[band['Genre']=='Doom Metal']['Country'].value_counts().head(5)).\\\n",
    "                merge(country_coor,how='left',left_index=True,right_index=True).rename(columns={'Country':'Bands'})\n",
    "thrash_coor = pd.DataFrame(band[band['Genre']=='Thrash Metal']['Country'].value_counts().head(5)).\\\n",
    "                merge(country_coor,how='left',left_index=True,right_index=True).rename(columns={'Country':'Bands'})\n",
    "heavy_coor = pd.DataFrame(band[band['Genre']=='Heavy Metal']['Country'].value_counts().head(5)).\\\n",
    "                merge(country_coor,how='left',left_index=True,right_index=True).rename(columns={'Country':'Bands'})"
   ]
  },
  {
   "cell_type": "code",
   "execution_count": null,
   "metadata": {},
   "outputs": [],
   "source": [
    "black_coor['Genre']='Black Metal'\n",
    "death_coor['Genre']='Death Metal'\n",
    "doom_coor['Genre']='Doom Metal'\n",
    "thrash_coor['Genre']='Thrash Metal'\n",
    "heavy_coor['Genre']='Heavy Metal'"
   ]
  },
  {
   "cell_type": "code",
   "execution_count": null,
   "metadata": {},
   "outputs": [],
   "source": [
    "pd.concat([black_coor,death_coor,doom_coor,thrash_coor,heavy_coor]).to_csv('coordinate.csv')"
   ]
  },
  {
   "cell_type": "code",
   "execution_count": null,
   "metadata": {
    "scrolled": true
   },
   "outputs": [],
   "source": [
    "band[band['Genre']=='Black Metal'].groupby('Formed').agg({'Avg_Score':'mean','Formed':'count'})"
   ]
  },
  {
   "cell_type": "markdown",
   "metadata": {},
   "source": [
    "## Dash"
   ]
  },
  {
   "cell_type": "code",
   "execution_count": null,
   "metadata": {},
   "outputs": [],
   "source": [
    "%%writefile metal.py\n",
    "\n",
    "import pandas as pd\n",
    "import numpy as np\n",
    "import dash\n",
    "import dash_table\n",
    "import dash_core_components as dcc\n",
    "import dash_html_components as html\n",
    "import plotly.graph_objs as go\n",
    "from dash.dependencies import Input, Output\n",
    "\n",
    "mapbox_access_token = 'pk.eyJ1IjoiY3J5c3RhbG0iLCJhIjoiY2p3cGJ1ZWF3MHZ2MjQwcHJ6ZjdtaHBtZCJ9.ylD2luL9p8CAHg0oZWrReg'\n",
    "band = pd.read_csv('band.csv',index_col=0)\n",
    "coordinates = pd.read_csv('coordinate.csv',index_col=0)\n",
    "genre = band['Genre'].value_counts()\n",
    "color = {'Black Metal':'Grey','Death Metal':'Red','Thrash Metal':'Blue','Doom Metal':'Purple','Heavy Metal':'Yellow'}\n",
    "    \n",
    "external_stylesheets = ['https://codepen.io/chriddyp/pen/bWLwgP.css']\n",
    "\n",
    "app = dash.Dash(__name__, external_stylesheets=external_stylesheets)\n",
    "\n",
    "app.layout = html.Div(children=[\n",
    "    html.H1(children='Until The Light Takes Us',style={\n",
    "                                'textAlign': 'center',\n",
    "                                'color':'#7f7f7f'}\n",
    "           ),\n",
    "    \n",
    "    html.Div(children='A Century\\'s Reign In Chaos', \n",
    "             style={\n",
    "                    'textAlign': 'center'\n",
    "                    }\n",
    "            ),\n",
    "    \n",
    "    dcc.Dropdown(\n",
    "        id='genre_select',\n",
    "        options=[{'label': i, 'value': i} for i in ['Black Metal', 'Death Metal', 'Doom Metal',\n",
    "       'Thrash Metal', 'Heavy Metal']],\n",
    "        value=['Black Metal'],\n",
    "        multi=True\n",
    "    ),\n",
    "    \n",
    "    dcc.Dropdown(\n",
    "        id='year_select',\n",
    "        options=[{'label': i, 'value': i} for i in [1985,1990, 1995, 2000]],\n",
    "        value=1995\n",
    "    ),\n",
    "    \n",
    "    html.Div(\n",
    "            '3510 Bands Info In Total', id='total-bands', style={'textAlign': 'center'}\n",
    "    ),\n",
    "    \n",
    "\n",
    "    html.Div(               \n",
    "            dcc.Graph(id='total_bands_genre',\n",
    "                     figure={'data':[\n",
    "                                     {'x':genre.index, \n",
    "                                      'y':genre.values,\n",
    "                                      'type':'bar',\n",
    "                                      'color':'Purple',\n",
    "                                      'opacity':0.6\n",
    "                                     }],\n",
    "                            'layout':go.Layout(\n",
    "                                        title='Genre',\n",
    "                                        yaxis={'title':'Band Counts'},\n",
    "                                        hovermode='closest'\n",
    "                                        )\n",
    "                            }\n",
    "                \n",
    "            )\n",
    "    ),\n",
    "    \n",
    "    html.Div([dcc.Graph(id='origin_country',\n",
    "                        className='six columns'),\n",
    "              dcc.Graph(id='origin_year',\n",
    "                        className='six columns'),\n",
    "             ],className='Row'\n",
    "            ),\n",
    "\n",
    "    html.Div([\n",
    "        html.Div([\n",
    "                dcc.Graph(id='pop_year')\n",
    "        ],\n",
    "        className='six columns'),\n",
    "        html.Div([\n",
    "                dash_table.DataTable(id='score_table',\n",
    "                                    columns=[\n",
    "                                        {\"name\": i, \"id\": i} for i in (band.reset_index().rename(columns={'index':'Band'}).columns)\n",
    "                                    ],\n",
    "                                    sort_action='native',\n",
    "                                    filter_action='native'\n",
    "                                    )]\n",
    "            ,className='six columns')                \n",
    "        ],className='Row')\n",
    "    ])\n",
    "\n",
    "\n",
    "@app.callback(\n",
    "    dash.dependencies.Output('origin_country', 'figure'),\n",
    "    [dash.dependencies.Input('genre_select', 'value')])\n",
    "def update_country_graph(genres):\n",
    "    traces = []\n",
    "    for genre in genres:\n",
    "        traces.append(go.Scattermapbox(\n",
    "                        lat=coordinates[coordinates['Genre']==f'{genre}']['Lat'],\n",
    "                        lon=coordinates[coordinates['Genre']==f'{genre}']['Long'],\n",
    "                        mode='markers',\n",
    "                        marker = {\n",
    "                                'size': coordinates[coordinates['Genre']==f'{genre}']['Bands']/2,\n",
    "                                'sizemode': 'diameter',\n",
    "                                'color': color[f'{genre}'],\n",
    "                                'opacity': 0.6\n",
    "                        },\n",
    "                        text = list(zip(coordinates[coordinates['Genre']==f'{genre}'].index,\n",
    "                                        coordinates[coordinates['Genre']==f'{genre}']['Bands'])),\n",
    "                        name = f'{genre}'\n",
    "                        )\n",
    "                    )\n",
    "    return {\n",
    "            'data': traces,\n",
    "                     \n",
    "            'layout':go.Layout(\n",
    "                        title='Origin Map',\n",
    "                        autosize=True,\n",
    "                        hovermode='closest',\n",
    "                        mapbox=dict(\n",
    "                                accesstoken=mapbox_access_token,\n",
    "                                bearing=0,\n",
    "                                center=dict(\n",
    "                                        lat=45.7465,\n",
    "                                        lon=-39.4629\n",
    "                                        ),\n",
    "                        pitch=0,\n",
    "                        zoom=1\n",
    "                        ),\n",
    "            )\n",
    "    }\n",
    "\n",
    "\n",
    "@app.callback(\n",
    "    dash.dependencies.Output('origin_year', 'figure'),\n",
    "    [dash.dependencies.Input('genre_select', 'value')])\n",
    "def update_year_graph(genres):\n",
    "    traces = []\n",
    "    for genre in genres:\n",
    "        traces.append(go.Line(\n",
    "                        x=band[band['Genre']==f'{genre}']['Formed'].value_counts().sort_index().index, \n",
    "                        y=band[band['Genre']==f'{genre}']['Formed'].value_counts().sort_index().values,\n",
    "                        text=band[band['Genre']==f'{genre}']['Formed'].value_counts().sort_index().index,\n",
    "                        textposition='top center',\n",
    "                        name = f'{genre}'\n",
    "                        )\n",
    "        )\n",
    "    return {\n",
    "            'data': traces,\n",
    "        \n",
    "            'layout': go.Layout(\n",
    "                        title='Bands Formed By Year',\n",
    "                        xaxis=dict(title='Year',\n",
    "                                  tickangle=45,\n",
    "                                  tickfont=dict(family='Rockwell',\n",
    "                                                size=15\n",
    "                                            )\n",
    "                                  ),\n",
    "                        yaxis=dict(title='Band Counts')\n",
    "                    )\n",
    "            }\n",
    "\n",
    "@app.callback(\n",
    "    dash.dependencies.Output('pop_year', 'figure'),\n",
    "    [dash.dependencies.Input('genre_select', 'value'),\n",
    "     dash.dependencies.Input('year_select', 'value')])\n",
    "def update_pop_graph(genre_select,year_select):\n",
    "    pop = band[(band['Formed']==year_select)&(band['Genre'].isin(genre_select))].groupby('Genre').agg({'Genre':'count'})\n",
    "\n",
    "    return {\n",
    "            'data': [go.Pie(labels=pop.index,\n",
    "                           values=pop['Genre'],\n",
    "                           hoverinfo='label+percent',\n",
    "                           text=pop['Genre']\n",
    "                    )],\n",
    "            'layout':go.Layout(\n",
    "                            title=f'Popularity in {year_select}',     \n",
    "                            hovermode='closest'\n",
    "            )\n",
    "    }\n",
    "\n",
    "@app.callback(\n",
    "    dash.dependencies.Output('score_table', 'data'),\n",
    "    [dash.dependencies.Input('genre_select', 'value')])\n",
    "def update_table(genre_select):\n",
    "    table = []\n",
    "    for genre in genre_select:\n",
    "        table.append(band[(band['Genre']==f'{genre}')].sort_values(by='Avg_Score',ascending=False)\n",
    "                     .head(5).reset_index().rename(columns={'index':'Band'})\n",
    "        )\n",
    "\n",
    "    return pd.concat(table).to_dict('records') if table != [] else []\n",
    "\n",
    "\n",
    "if __name__ == '__main__':\n",
    "    app.run_server(debug=True)"
   ]
  },
  {
   "cell_type": "code",
   "execution_count": null,
   "metadata": {},
   "outputs": [],
   "source": []
  }
 ],
 "metadata": {
  "kernelspec": {
   "display_name": "Python 3",
   "language": "python",
   "name": "python3"
  },
  "language_info": {
   "codemirror_mode": {
    "name": "ipython",
    "version": 3
   },
   "file_extension": ".py",
   "mimetype": "text/x-python",
   "name": "python",
   "nbconvert_exporter": "python",
   "pygments_lexer": "ipython3",
   "version": "3.7.3"
  }
 },
 "nbformat": 4,
 "nbformat_minor": 2
}
